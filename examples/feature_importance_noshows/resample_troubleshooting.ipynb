{
 "cells": [
  {
   "cell_type": "markdown",
   "metadata": {},
   "source": [
    "(This notebook is based on an interactive session on 2020-01-20, slightly cleaned up)"
   ]
  },
  {
   "cell_type": "markdown",
   "metadata": {},
   "source": [
    "**NOTE: depends on having run `make run-noshows-resample` and `examples/privbayes-example-3-ensemble.py`**"
   ]
  },
  {
   "cell_type": "code",
   "execution_count": 1,
   "metadata": {},
   "outputs": [],
   "source": [
    "import os\n",
    "import json\n",
    "import pandas as pd\n",
    "import matplotlib.pyplot as plt"
   ]
  },
  {
   "cell_type": "code",
   "execution_count": 2,
   "metadata": {},
   "outputs": [],
   "source": [
    "os.chdir(\"../../synth-output/noshows-resampling\")"
   ]
  },
  {
   "cell_type": "code",
   "execution_count": 3,
   "metadata": {},
   "outputs": [],
   "source": [
    "df_orig = pd.read_csv(\"../../datasets/appointment_noshows/KaggleV2-May-2016-cleaned.csv\")\n",
    "df_resampled = pd.read_csv(\"synthetic_data_1.csv\")\n",
    "df_privbayes = pd.read_csv(\"../privbayes-example-3-ensemble-0000/synthetic_data_1.csv\")\n",
    "\n",
    "with open(\"utility_feature_importance.json\") as f:\n",
    "    feat_imp_resampled = json.load(f)\n",
    "        \n",
    "with open(\"utility_correlations.json\") as f:\n",
    "    corr_resampled = json.load(f)\n",
    "\n",
    "    \n",
    "with open('../privbayes-example-3-ensemble-0000/utility_feature_importance.json') as f:\n",
    "    feat_imp_privbayes = json.load(f)"
   ]
  },
  {
   "cell_type": "code",
   "execution_count": 4,
   "metadata": {},
   "outputs": [
    {
     "data": {
      "text/plain": [
       "dict_keys(['rbo_0.6', 'rbo_0.8', 'rbo_ext_0.6', 'rbo_ext_0.8', 'l2_norm', 'kl_orig_rlsd', 'orig_feature_importances', 'rlsd_feature_importances'])"
      ]
     },
     "execution_count": 4,
     "metadata": {},
     "output_type": "execute_result"
    }
   ],
   "source": [
    "feat_imp_resampled.keys()"
   ]
  },
  {
   "cell_type": "code",
   "execution_count": 5,
   "metadata": {},
   "outputs": [
    {
     "data": {
      "text/plain": [
       "0.9907690826090484"
      ]
     },
     "execution_count": 5,
     "metadata": {},
     "output_type": "execute_result"
    }
   ],
   "source": [
    "feat_imp_resampled['rbo_0.6']"
   ]
  },
  {
   "cell_type": "code",
   "execution_count": 6,
   "metadata": {},
   "outputs": [
    {
     "data": {
      "text/plain": [
       "0.9707062679171069"
      ]
     },
     "execution_count": 6,
     "metadata": {},
     "output_type": "execute_result"
    }
   ],
   "source": [
    "feat_imp_resampled['rbo_0.8']"
   ]
  },
  {
   "cell_type": "code",
   "execution_count": 7,
   "metadata": {},
   "outputs": [
    {
     "data": {
      "text/plain": [
       "[[0.11723295321075733, 'ages.COUNT(my_entity_id)'],\n",
       " [0.11556964903863316, 'age'],\n",
       " [0.08482538385692429, 'locations.COUNT(my_entity_id)'],\n",
       " [0.08018116234722271, 'DAY(appointment_day)'],\n",
       " [0.0538208669690111, 'genders.COUNT(my_entity_id)'],\n",
       " [0.04775543399670052, 'WEEKDAY(appointment_day)'],\n",
       " [0.04271568777777663,\n",
       "  'genders.PERCENT_TRUE(my_entity_id.IS_WEEKEND(scheduled_time))'],\n",
       " [0.03895157068829188, 'patients.DAY(first_my_entity_id_time)'],\n",
       " [0.028914002721848263, 'DAY(scheduled_time)'],\n",
       " [0.025662848434760344, 'patients.WEEKDAY(first_my_entity_id_time)']]"
      ]
     },
     "execution_count": 7,
     "metadata": {},
     "output_type": "execute_result"
    }
   ],
   "source": [
    "feat_imp_resampled['orig_feature_importances'][0:10]"
   ]
  },
  {
   "cell_type": "code",
   "execution_count": 8,
   "metadata": {},
   "outputs": [
    {
     "data": {
      "text/plain": [
       "[[0.09956488718549433, 'ages.COUNT(my_entity_id)'],\n",
       " [0.09477841776321413, 'age'],\n",
       " [0.08224801596996274, 'locations.COUNT(my_entity_id)'],\n",
       " [0.06970547740674742, 'DAY(appointment_day)'],\n",
       " [0.050545718585384224, 'genders.COUNT(my_entity_id)'],\n",
       " [0.05032660237238205, 'patients.DAY(first_my_entity_id_time)'],\n",
       " [0.0488700782536517,\n",
       "  'genders.PERCENT_TRUE(my_entity_id.IS_WEEKEND(scheduled_time))'],\n",
       " [0.04377689012468927, 'WEEKDAY(appointment_day)'],\n",
       " [0.03239031316621491, 'patients.COUNT(my_entity_id)'],\n",
       " [0.031489561726745434, 'patients.WEEKDAY(first_my_entity_id_time)']]"
      ]
     },
     "execution_count": 8,
     "metadata": {},
     "output_type": "execute_result"
    }
   ],
   "source": [
    "feat_imp_resampled['rlsd_feature_importances'][0:10]"
   ]
  },
  {
   "cell_type": "code",
   "execution_count": 9,
   "metadata": {},
   "outputs": [
    {
     "data": {
      "text/plain": [
       "[[0.7229996366293611, 'age'],\n",
       " [0.03360703226522592, 'F'],\n",
       " [0.03341695718621019, 'sms_received'],\n",
       " [0.020616248881085816, 'patients.scholarship'],\n",
       " [0.01495608772540055, 'patients.diabetes'],\n",
       " [0.012272885912377279, 'patients.alcoholism'],\n",
       " [0.011924965039604031, 'patients.handicap'],\n",
       " [0.00659885300399509, 'patients.hypertension'],\n",
       " [0.003708173616971407, 'MARIA ORTIZ'],\n",
       " [0.0034135112880350417, 'RESISTÊNCIA']]"
      ]
     },
     "execution_count": 9,
     "metadata": {},
     "output_type": "execute_result"
    }
   ],
   "source": [
    "feat_imp_privbayes['rlsd_feature_importances'][0:10]"
   ]
  },
  {
   "cell_type": "code",
   "execution_count": 10,
   "metadata": {},
   "outputs": [
    {
     "data": {
      "text/plain": [
       "<matplotlib.axes._subplots.AxesSubplot at 0x11b7420d0>"
      ]
     },
     "execution_count": 10,
     "metadata": {},
     "output_type": "execute_result"
    },
    {
     "data": {
      "image/png": "[encoded data removed]",
      "text/plain": [
       "<Figure size 432x288 with 1 Axes>"
      ]
     },
     "metadata": {
      "needs_background": "light"
     },
     "output_type": "display_data"
    }
   ],
   "source": [
    "df_orig['age'].hist()"
   ]
  },
  {
   "cell_type": "code",
   "execution_count": 11,
   "metadata": {},
   "outputs": [
    {
     "data": {
      "text/plain": [
       "No     88208\n",
       "Yes    22319\n",
       "Name: no_show, dtype: int64"
      ]
     },
     "execution_count": 11,
     "metadata": {},
     "output_type": "execute_result"
    }
   ],
   "source": [
    "df_orig['no_show'].value_counts()"
   ]
  },
  {
   "cell_type": "code",
   "execution_count": 12,
   "metadata": {},
   "outputs": [
    {
     "data": {
      "text/plain": [
       "<matplotlib.axes._subplots.AxesSubplot at 0x121387890>"
      ]
     },
     "execution_count": 12,
     "metadata": {},
     "output_type": "execute_result"
    },
    {
     "data": {
      "image/png": "[encoded data removed]",
      "text/plain": [
       "<Figure size 432x288 with 1 Axes>"
      ]
     },
     "metadata": {
      "needs_background": "light"
     },
     "output_type": "display_data"
    }
   ],
   "source": [
    "df_resampled['age'].hist()"
   ]
  },
  {
   "cell_type": "code",
   "execution_count": 13,
   "metadata": {},
   "outputs": [
    {
     "data": {
      "text/plain": [
       "No     88459\n",
       "Yes    22068\n",
       "Name: no_show, dtype: int64"
      ]
     },
     "execution_count": 13,
     "metadata": {},
     "output_type": "execute_result"
    }
   ],
   "source": [
    "df_resampled['no_show'].value_counts()"
   ]
  },
  {
   "cell_type": "code",
   "execution_count": 14,
   "metadata": {},
   "outputs": [
    {
     "data": {
      "text/plain": [
       "<matplotlib.axes._subplots.AxesSubplot at 0x1214960d0>"
      ]
     },
     "execution_count": 14,
     "metadata": {},
     "output_type": "execute_result"
    },
    {
     "data": {
      "image/png": "[encoded data removed]",
      "text/plain": [
       "<Figure size 432x288 with 1 Axes>"
      ]
     },
     "metadata": {
      "needs_background": "light"
     },
     "output_type": "display_data"
    }
   ],
   "source": [
    "df_privbayes['age'].hist()"
   ]
  },
  {
   "cell_type": "code",
   "execution_count": 15,
   "metadata": {},
   "outputs": [
    {
     "data": {
      "text/plain": [
       "No     88330\n",
       "Yes    22197\n",
       "Name: no_show, dtype: int64"
      ]
     },
     "execution_count": 15,
     "metadata": {},
     "output_type": "execute_result"
    }
   ],
   "source": [
    "df_privbayes['no_show'].value_counts()"
   ]
  },
  {
   "cell_type": "code",
   "execution_count": 16,
   "metadata": {},
   "outputs": [
    {
     "data": {
      "text/plain": [
       "<matplotlib.image.AxesImage at 0x121581d90>"
      ]
     },
     "execution_count": 16,
     "metadata": {},
     "output_type": "execute_result"
    },
    {
     "data": {
      "image/png": "[encoded data removed]",
      "text/plain": [
       "<Figure size 432x288 with 1 Axes>"
      ]
     },
     "metadata": {
      "needs_background": "light"
     },
     "output_type": "display_data"
    }
   ],
   "source": [
    "plt.imshow(corr_resampled['Cramers_V_Original'])"
   ]
  },
  {
   "cell_type": "markdown",
   "metadata": {},
   "source": [
    "With independently resampled columns:\n"
   ]
  },
  {
   "cell_type": "code",
   "execution_count": 17,
   "metadata": {},
   "outputs": [
    {
     "data": {
      "text/plain": [
       "<matplotlib.image.AxesImage at 0x121888a10>"
      ]
     },
     "execution_count": 17,
     "metadata": {},
     "output_type": "execute_result"
    },
    {
     "data": {
      "image/png": "[encoded data removed]",
      "text/plain": [
       "<Figure size 432x288 with 1 Axes>"
      ]
     },
     "metadata": {
      "needs_background": "light"
     },
     "output_type": "display_data"
    }
   ],
   "source": [
    "plt.imshow(corr_resampled['Cramers_V_Released'])"
   ]
  },
  {
   "cell_type": "code",
   "execution_count": 18,
   "metadata": {},
   "outputs": [
    {
     "data": {
      "text/plain": [
       "[[0.10643955694750405],\n",
       " [0.18846546516765852],\n",
       " [0.09245715318943556],\n",
       " [0.5045862526245813],\n",
       " [0.2923914636780806],\n",
       " [0.09581128208216852],\n",
       " [0.08430542187295069],\n",
       " [0.012643416839989837],\n",
       " [0.060318511409173735]]"
      ]
     },
     "execution_count": 18,
     "metadata": {},
     "output_type": "execute_result"
    }
   ],
   "source": [
    "corr_resampled['Correlation_Ratio_Original']"
   ]
  },
  {
   "cell_type": "code",
   "execution_count": 19,
   "metadata": {},
   "outputs": [
    {
     "data": {
      "text/plain": [
       "[[0.0014201290557094277],\n",
       " [0.028899194130309724],\n",
       " [0.0015957171684851015],\n",
       " [0.004335791404261924],\n",
       " [0.001077152766748358],\n",
       " [0.0024023082608458876],\n",
       " [0.006386759153650465],\n",
       " [7.210537035455014e-05],\n",
       " [0.004703769850583551]]"
      ]
     },
     "execution_count": 19,
     "metadata": {},
     "output_type": "execute_result"
    }
   ],
   "source": [
    "corr_resampled['Correlation_Ratio_Released']"
   ]
  },
  {
   "cell_type": "markdown",
   "metadata": {},
   "source": [
    "The classifier-based metrics perform very badly.  The below is consistent with predictions of constant 'noshow = False' for both the original and synthetic data."
   ]
  },
  {
   "cell_type": "code",
   "execution_count": 20,
   "metadata": {},
   "outputs": [],
   "source": [
    "with open('utility_overall_diff.json') as f:\n",
    "    overall_diff = json.load(f)\n",
    "\n",
    "with open('utility_o_o.json') as f:\n",
    "    o_o = json.load(f)\n",
    "    \n",
    "with open('utility_r_o.json') as f:\n",
    "    r_o = json.load(f)\n",
    "    \n",
    "with open('utility_confusion_o_o.json') as f:\n",
    "    overall_diff = json.load(f)"
   ]
  },
  {
   "cell_type": "code",
   "execution_count": 21,
   "metadata": {},
   "outputs": [
    {
     "data": {
      "text/plain": [
       "{'LogisticRegression': {'conf_matrix': [[17638, 0], [4468, 0]],\n",
       "  'target_names': ['No', 'Yes']}}"
      ]
     },
     "execution_count": 21,
     "metadata": {},
     "output_type": "execute_result"
    }
   ],
   "source": [
    "overall_diff"
   ]
  },
  {
   "cell_type": "code",
   "execution_count": 22,
   "metadata": {},
   "outputs": [
    {
     "data": {
      "text/plain": [
       "{'LogisticRegression': {'accuracy': {'value': 79.78829277119334},\n",
       "  'precision': {'macro': 50.0, 'weighted': 100.0},\n",
       "  'recall': {'macro': 89.89414638559667, 'weighted': 79.78829277119334},\n",
       "  'f1': {'macro': 44.379025764895324, 'weighted': 88.75805152979065}}}"
      ]
     },
     "execution_count": 22,
     "metadata": {},
     "output_type": "execute_result"
    }
   ],
   "source": [
    "o_o"
   ]
  },
  {
   "cell_type": "code",
   "execution_count": 23,
   "metadata": {},
   "outputs": [
    {
     "data": {
      "text/plain": [
       "{'LogisticRegression': {'accuracy': {'value': 79.78829277119334},\n",
       "  'precision': {'macro': 50.0, 'weighted': 100.0},\n",
       "  'recall': {'macro': 89.89414638559667, 'weighted': 79.78829277119334},\n",
       "  'f1': {'macro': 44.379025764895324, 'weighted': 88.75805152979065}}}"
      ]
     },
     "execution_count": 23,
     "metadata": {},
     "output_type": "execute_result"
    }
   ],
   "source": [
    "r_o"
   ]
  },
  {
   "cell_type": "code",
   "execution_count": 24,
   "metadata": {},
   "outputs": [
    {
     "data": {
      "text/plain": [
       "{'LogisticRegression': {'conf_matrix': [[17638, 0], [4468, 0]],\n",
       "  'target_names': ['No', 'Yes']}}"
      ]
     },
     "execution_count": 24,
     "metadata": {},
     "output_type": "execute_result"
    }
   ],
   "source": [
    "overall_diff"
   ]
  }
 ],
 "metadata": {
  "kernelspec": {
   "display_name": "Python 3",
   "language": "python",
   "name": "python3"
  },
  "language_info": {
   "codemirror_mode": {
    "name": "ipython",
    "version": 3
   },
   "file_extension": ".py",
   "mimetype": "text/x-python",
   "name": "python",
   "nbconvert_exporter": "python",
   "pygments_lexer": "ipython3",
   "version": "3.7.4"
  }
 },
 "nbformat": 4,
 "nbformat_minor": 5
}
