{
 "cells": [
  {
   "cell_type": "markdown",
   "metadata": {},
   "source": [
    "# Privacy and utility tradeoff (experiments 6 and 7, issue 120)\n",
    "\n",
    "* Synthetic methods: synthpop and CTGAN\n",
    "* Dataset: datasets/polish_data_2011/polish_data_2011\n",
    "\n",
    "For more information, refer to Experiments 6 and 7 in this issue: https://github.com/alan-turing-institute/QUIPP-collab/issues/120"
   ]
  },
  {
   "cell_type": "code",
   "execution_count": 1,
   "metadata": {},
   "outputs": [],
   "source": [
    "import glob\n",
    "import json\n",
    "import matplotlib.pyplot as plt\n",
    "import matplotlib.cm as cm\n",
    "import numpy as np\n",
    "import os"
   ]
  },
  {
   "cell_type": "markdown",
   "metadata": {},
   "source": [
    "## Inputs"
   ]
  },
  {
   "cell_type": "code",
   "execution_count": 2,
   "metadata": {},
   "outputs": [],
   "source": [
    "# path to synthpop results (QUIPP pipeline)\n",
    "synthpop_paths = \"./outputs/synth-output_polish_6_cols_random_*/polish-synthpop-*\"\n",
    "# How to plot the results, options: scatter (default) or line\n",
    "# \"scatter\" should be used when several results are going to be plotted in one figure\n",
    "plot_type = \"scatter\"\n",
    "\n",
    "# CTGAN path/colors/labels\n",
    "ctgan_paths = [\"./outputs/ctgan_synth-output_polish_6_cols/ctgan-polish-1\",\n",
    "               \"./outputs/ctgan_synth-output_polish_6_cols/ctgan-polish-2\",\n",
    "               \"./outputs/ctgan_synth-output_polish_6_cols/ctgan-polish-3\"]\n",
    "ctgan_colors = [\"cyan\", \"blue\", \"red\"]\n",
    "ctgan_labels = [\"CTGAN, 100\", \"CTGAN, 500\", \"CTGAN, 2000\"]\n",
    "\n",
    "# Privacy metric to be plotted\n",
    "# options:\"EMRi_norm\" and \"TMRi_norm\"\n",
    "privacy_metric = \"EMRi_norm\""
   ]
  },
  {
   "cell_type": "markdown",
   "metadata": {},
   "source": [
    "## Plot"
   ]
  },
  {
   "cell_type": "code",
   "execution_count": 3,
   "metadata": {},
   "outputs": [
    {
     "name": "stdout",
     "output_type": "stream",
     "text": [
      "Plot synthpop outputs\n",
      "Plot CTGAN outputs\n"
     ]
    },
    {
     "data": {
      "image/png": "[encoded data removed]",
      "text/plain": [
       "<Figure size 720x360 with 1 Axes>"
      ]
     },
     "metadata": {
      "needs_background": "light"
     },
     "output_type": "display_data"
    }
   ],
   "source": [
    "# --- Synthpop\n",
    "print(\"Plot synthpop outputs\")\n",
    "syn_dirs = glob.glob(synthpop_paths)\n",
    "syn_dirs.sort()\n",
    "\n",
    "collect_privacy = []\n",
    "collect_utility = []\n",
    "counter = []\n",
    "for i, one_syn in enumerate(syn_dirs):\n",
    "    # - disclosure risk\n",
    "    disclosure_fio = open(os.path.join(one_syn, \"disclosure_risk.json\"))\n",
    "    disclosure = json.load(disclosure_fio)\n",
    "    # normalize\n",
    "    collect_privacy.append(100. - disclosure[privacy_metric]*100)\n",
    "    \n",
    "    # - utility\n",
    "    utility_fio = open(os.path.join(one_syn, \"utility_overall_diff.json\"))\n",
    "    utility = json.load(utility_fio)\n",
    "    collect_utility.append(100. - utility[\"overall\"][\"f1\"][\"weighted\"]*100.)\n",
    "    counter.append(str(i+1))\n",
    "\n",
    "plt.figure(figsize=(10, 5))\n",
    "if plot_type == \"scatter\":\n",
    "    plt.scatter(collect_privacy, \n",
    "                collect_utility, \n",
    "                s=100, \n",
    "                c=\"k\", edgecolor=\"k\", \n",
    "                alpha=0.5, \n",
    "                label=\"Synthpop\")\n",
    "else:\n",
    "    plt.plot(collect_privacy, \n",
    "             collect_utility, \n",
    "             markersize=10, \n",
    "             ls='-', marker=\"o\",\n",
    "             c=\"k\", \n",
    "             alpha=1.0, \n",
    "             label=\"Synthpop\")\n",
    "\n",
    "# --- CTGAN\n",
    "print(\"Plot CTGAN outputs\")\n",
    "for igan, ctgan_path in enumerate(ctgan_paths):\n",
    "    syn_dirs = glob.glob(ctgan_path)\n",
    "    syn_dirs.sort()\n",
    "\n",
    "    collect_privacy = []\n",
    "    collect_utility = []\n",
    "    counter = []\n",
    "    for i, one_syn in enumerate(syn_dirs):\n",
    "        # - disclosure risk\n",
    "        disclosure_fio = open(os.path.join(one_syn, \"disclosure_risk.json\"))\n",
    "        disclosure = json.load(disclosure_fio)\n",
    "        # normalize\n",
    "        collect_privacy.append(100. - disclosure[privacy_metric]*100)\n",
    "        \n",
    "        # - utility\n",
    "        utility_fio = open(os.path.join(one_syn, \"utility_overall_diff.json\"))\n",
    "        utility = json.load(utility_fio)\n",
    "        collect_utility.append(100. - utility[\"overall\"][\"f1\"][\"weighted\"]*100.)\n",
    "        counter.append(str(i+1))\n",
    "\n",
    "    plt.scatter(collect_privacy, \n",
    "                collect_utility, \n",
    "                s=100, \n",
    "                c=ctgan_colors[igan], edgecolor=ctgan_colors[igan], \n",
    "                alpha=1.0,\n",
    "                label=ctgan_labels[igan])\n",
    "\n",
    "# for i in range(len(collect_privacy)):\n",
    "#     plt.text(collect_privacy[i] - 0.15, \n",
    "#              collect_utility[i] + 0.1, \n",
    "#              counter[i], \n",
    "#              size=18, c='r')\n",
    "\n",
    "plt.xlabel(f\"Privacy ({privacy_metric})\", size=24, color=\"black\")\n",
    "plt.ylabel(\"Utility\", size=24, color=\"black\")\n",
    "plt.xlim(xmax=105)\n",
    "plt.xticks(size=18, color=\"black\")\n",
    "plt.yticks(size=18, color=\"black\")\n",
    "plt.grid()\n",
    "plt.legend(prop={'size': 16})\n",
    "plt.show()"
   ]
  },
  {
   "cell_type": "code",
   "execution_count": null,
   "metadata": {},
   "outputs": [],
   "source": []
  }
 ],
 "metadata": {
  "kernelspec": {
   "display_name": "Python 3",
   "language": "python",
   "name": "python3"
  },
  "language_info": {
   "codemirror_mode": {
    "name": "ipython",
    "version": 3
   },
   "file_extension": ".py",
   "mimetype": "text/x-python",
   "name": "python",
   "nbconvert_exporter": "python",
   "pygments_lexer": "ipython3",
   "version": "3.6.8"
  }
 },
 "nbformat": 4,
 "nbformat_minor": 2
}
