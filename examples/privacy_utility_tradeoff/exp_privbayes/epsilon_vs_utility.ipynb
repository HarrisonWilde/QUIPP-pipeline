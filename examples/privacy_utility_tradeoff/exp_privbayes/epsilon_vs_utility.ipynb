{
 "cells": [
  {
   "cell_type": "markdown",
   "metadata": {},
   "source": [
    "# Epsilon and utility tradeoff for PrivBayes\n",
    "\n",
    "* Synthetic method: PrivBayes\n",
    "* Dataset: generator-outputs/odi-nhs-ae/hospital_ae_data_deidentify.csv\n",
    "\n",
    "This example runs the QUIPP pipeline using 20 input files in `examples/parameter_files/generated-privbayes-dr`. All of them use PrivBayes for synthesis but set different epsilons (there are 4 different epsilon values and 5 files per epsilon, each of which uses a different random seed). The notebook plots a graph of a utility score (1 - relative difference of F1 scores) against privacy (epsilon used in PrivBayes synthesis, where larger epsilon means less privacy)."
   ]
  },
  {
   "cell_type": "code",
   "execution_count": 1,
   "metadata": {},
   "outputs": [],
   "source": [
    "import json\n",
    "import os\n",
    "import subprocess\n",
    "import shutil\n",
    "import seaborn as sns\n",
    "import matplotlib.pyplot as plt\n",
    "import numpy as np\n",
    "import argparse"
   ]
  },
  {
   "cell_type": "markdown",
   "metadata": {},
   "source": [
    "### Input and output directories"
   ]
  },
  {
   "cell_type": "code",
   "execution_count": 3,
   "metadata": {},
   "outputs": [],
   "source": [
    "json_files_path = \"../../parameter_files/generated-privbayes-dr/\"\n",
    "inputs_path = \"../../../run-inputs/\"\n",
    "outputs_path = \"../../../synth-output/\"\n",
    "temp_path = '../../../temp-run-inputs/'"
   ]
  },
  {
   "cell_type": "markdown",
   "metadata": {},
   "source": [
    "### Utility functions"
   ]
  },
  {
   "cell_type": "code",
   "execution_count": 4,
   "metadata": {},
   "outputs": [],
   "source": [
    "def run_make_clean():\n",
    "    \"\"\"Runs make clean to reset all files.\"\"\"\n",
    "    cmd = '''\n",
    "    cd ../../../\n",
    "    make clean   \n",
    "    '''\n",
    "    subprocess.check_output(cmd, shell=True)\n",
    "\n",
    "def prepare_parameter_files():\n",
    "    \"\"\"Temporarily store inputs_path files to new directory and copy all .json \n",
    "    parameter files from json_files_path to inputs_path.\"\"\"   \n",
    "    if not os.path.exists(temp_path):\n",
    "        os.mkdir(temp_path)\n",
    "    existing_file_names = os.listdir(inputs_path)    \n",
    "    for f in existing_file_names:\n",
    "        shutil.move(os.path.join(inputs_path, f), temp_path)\n",
    "    \n",
    "    new_file_names = os.listdir(path=json_files_path)\n",
    "    for f in new_file_names:\n",
    "        shutil.copyfile(os.path.join(json_files_path, f), os.path.join(inputs_path, f))\n",
    "\n",
    "def run_pipeline():\n",
    "    \"\"\"Runs QUiPP pipeline for all enabled .json files in run-inputs\n",
    "    Note: Can take several minutes depending on number of files and\n",
    "    method used. Not all output is printed to the console. If you want to see\n",
    "    all the output, you can run make from bash.\"\"\"\n",
    "    cmd = '''\n",
    "    cd ../../../\n",
    "    make   \n",
    "    '''\n",
    "    subprocess.check_output(cmd, shell=True)\n",
    "    \n",
    "def restore_original_parameter_files():\n",
    "    \"\"\"Delete the new json files from inputs_path and restore previously moved files.\"\"\"    \n",
    "    for f in os.listdir(inputs_path):        \n",
    "        os.remove(os.path.join(inputs_path, f))\n",
    "    \n",
    "    original_file_names = os.listdir(temp_path)    \n",
    "    for f in original_file_names:\n",
    "        shutil.move(os.path.join(temp_path, f), inputs_path)"
   ]
  },
  {
   "cell_type": "markdown",
   "metadata": {},
   "source": [
    "### Clean folders\n",
    "Runs make clean"
   ]
  },
  {
   "cell_type": "code",
   "execution_count": 5,
   "metadata": {},
   "outputs": [],
   "source": [
    "run_make_clean()"
   ]
  },
  {
   "cell_type": "markdown",
   "metadata": {},
   "source": [
    "### Prepare files\n",
    "Temporarily move existing .json files from run-inputs and replace them with the 20 .json files for this experiment "
   ]
  },
  {
   "cell_type": "code",
   "execution_count": 6,
   "metadata": {},
   "outputs": [],
   "source": [
    "prepare_parameter_files()"
   ]
  },
  {
   "cell_type": "markdown",
   "metadata": {},
   "source": [
    "### Run pipeline"
   ]
  },
  {
   "cell_type": "code",
   "execution_count": 7,
   "metadata": {},
   "outputs": [],
   "source": [
    "run_pipeline()"
   ]
  },
  {
   "cell_type": "markdown",
   "metadata": {},
   "source": [
    "### Restore original files\n",
    "Restores original .json files to run-inputs folder"
   ]
  },
  {
   "cell_type": "code",
   "execution_count": 8,
   "metadata": {},
   "outputs": [],
   "source": [
    "restore_original_parameter_files()"
   ]
  },
  {
   "cell_type": "markdown",
   "metadata": {},
   "source": [
    "### Collect results\n",
    "Collect utility and privacy results"
   ]
  },
  {
   "cell_type": "code",
   "execution_count": null,
   "metadata": {},
   "outputs": [],
   "source": [
    "f_list = os.listdir(path=json_files_path)\n",
    "privacy_scores = []\n",
    "epsilon_scores = []\n",
    "utility_scores = []\n",
    "\n",
    "for f in [os.path.splitext(name)[0] for name in f_list]:\n",
    "    with open(os.path.join(outputs_path, f, \"disclosure_risk.json\")) as privacy_file:\n",
    "        privacy_dict = json.load(privacy_file)\n",
    "    privacy_scores.append(privacy_dict[\"EMRi_norm\"])\n",
    "    \n",
    "    with open(os.path.join(outputs_path, f, f\"{f}.json\")) as parameters_file:\n",
    "        parameters_dict = json.load(parameters_file)\n",
    "    epsilon_scores.append(parameters_dict[\"parameters\"][\"epsilon\"])\n",
    "\n",
    "    with open(os.path.join(outputs_path, f, \"utility_overall_diff.json\")) as utility_file:\n",
    "        utility_dict = json.load(utility_file)\n",
    "        print(utility_file)\n",
    "    utility_scores.append(utility_dict[\"overall\"][\"f1\"][\"macro\"])\n",
    "\n",
    "print(f\"Privacy scores: {np.array(privacy_scores)}\")\n",
    "print(f\"Epsilon scores: {np.array(epsilon_scores)}\")\n",
    "print(f\"Utility scores: {np.array(utility_scores)}\")"
   ]
  },
  {
   "cell_type": "markdown",
   "metadata": {},
   "source": [
    "### Plot epsilon vs. utility\n",
    "It seems that utility increases slightly with larger epsilon as expected"
   ]
  },
  {
   "cell_type": "code",
   "execution_count": 14,
   "metadata": {},
   "outputs": [
    {
     "name": "stdout",
     "output_type": "stream",
     "text": [
      "<_io.TextIOWrapper name='../../../synth-output/privbayes-example-13/utility_overall_diff.json' mode='r' encoding='UTF-8'>\n",
      "<_io.TextIOWrapper name='../../../synth-output/privbayes-example-12/utility_overall_diff.json' mode='r' encoding='UTF-8'>\n",
      "<_io.TextIOWrapper name='../../../synth-output/privbayes-example-3/utility_overall_diff.json' mode='r' encoding='UTF-8'>\n",
      "<_io.TextIOWrapper name='../../../synth-output/privbayes-example-8/utility_overall_diff.json' mode='r' encoding='UTF-8'>\n",
      "<_io.TextIOWrapper name='../../../synth-output/privbayes-example-19/utility_overall_diff.json' mode='r' encoding='UTF-8'>\n",
      "<_io.TextIOWrapper name='../../../synth-output/privbayes-example-4/utility_overall_diff.json' mode='r' encoding='UTF-8'>\n",
      "<_io.TextIOWrapper name='../../../synth-output/privbayes-example-15/utility_overall_diff.json' mode='r' encoding='UTF-8'>\n",
      "<_io.TextIOWrapper name='../../../synth-output/privbayes-example-14/utility_overall_diff.json' mode='r' encoding='UTF-8'>\n",
      "<_io.TextIOWrapper name='../../../synth-output/privbayes-example-5/utility_overall_diff.json' mode='r' encoding='UTF-8'>\n",
      "<_io.TextIOWrapper name='../../../synth-output/privbayes-example-18/utility_overall_diff.json' mode='r' encoding='UTF-8'>\n",
      "<_io.TextIOWrapper name='../../../synth-output/privbayes-example-9/utility_overall_diff.json' mode='r' encoding='UTF-8'>\n",
      "<_io.TextIOWrapper name='../../../synth-output/privbayes-example-17/utility_overall_diff.json' mode='r' encoding='UTF-8'>\n",
      "<_io.TextIOWrapper name='../../../synth-output/privbayes-example-6/utility_overall_diff.json' mode='r' encoding='UTF-8'>\n",
      "<_io.TextIOWrapper name='../../../synth-output/privbayes-example-7/utility_overall_diff.json' mode='r' encoding='UTF-8'>\n",
      "<_io.TextIOWrapper name='../../../synth-output/privbayes-example-16/utility_overall_diff.json' mode='r' encoding='UTF-8'>\n",
      "<_io.TextIOWrapper name='../../../synth-output/privbayes-example-20/utility_overall_diff.json' mode='r' encoding='UTF-8'>\n",
      "<_io.TextIOWrapper name='../../../synth-output/privbayes-example-11/utility_overall_diff.json' mode='r' encoding='UTF-8'>\n",
      "<_io.TextIOWrapper name='../../../synth-output/privbayes-example-0/utility_overall_diff.json' mode='r' encoding='UTF-8'>\n",
      "<_io.TextIOWrapper name='../../../synth-output/privbayes-example-1/utility_overall_diff.json' mode='r' encoding='UTF-8'>\n",
      "<_io.TextIOWrapper name='../../../synth-output/privbayes-example-10/utility_overall_diff.json' mode='r' encoding='UTF-8'>\n",
      "Privacy scores: [8.17635211e-05 9.59651908e-05 1.14879889e-04 4.58112304e-05\n",
      " 1.38411164e-04 9.30925926e-06 7.86183523e-05 1.30609327e-04\n",
      " 7.58481052e-05 6.26227450e-05 8.10461117e-05 8.40621351e-05\n",
      " 9.74386634e-05 8.48339817e-05 1.14725534e-04 1.26642126e-04\n",
      " 6.99666376e-05 1.43735646e-04 2.64550265e-05 7.08358666e-05]\n",
      "Epsilon scores: [1.e+00 1.e+00 1.e-03 1.e-01 1.e+03 1.e-03 1.e+00 1.e+00 1.e-03 1.e+03\n",
      " 1.e-01 1.e+03 1.e-01 1.e-01 1.e+03 1.e+03 1.e+00 1.e-03 1.e-03 1.e-01]\n",
      "Utility scores: [0.01349241 0.03072347 0.05695702 0.06060274 0.02240952 0.0166656\n",
      " 0.03659723 0.01730819 0.15726195 0.00069439 0.00126365 0.00966113\n",
      " 0.00104246 0.02040255 0.00638262 0.00948315 0.0262905  0.04570439\n",
      " 0.0163297  0.00474246]\n"
     ]
    },
    {
     "name": "stderr",
     "output_type": "stream",
     "text": [
      "<ipython-input-14-a123422f169f>:31: UserWarning: Attempted to set non-positive left xlim on a log-scaled axis.\n",
      "Invalid limit will be ignored.\n",
      "  ax.set(xlim=(0, 1000), ylim=(0.7, 1.00))\n"
     ]
    },
    {
     "data": {
      "image/png": "[encoded data removed]",
      "text/plain": [
       "<Figure size 432x288 with 1 Axes>"
      ]
     },
     "metadata": {
      "needs_background": "light"
     },
     "output_type": "display_data"
    }
   ],
   "source": [
    "sns.set_palette(\"hls\", 8)\n",
    "ax = sns.scatterplot(x=np.array(epsilon_scores), y=1-np.array(utility_scores), s=70)\n",
    "ax.set_xscale('log')\n",
    "plt.title('Utility/Epsilon plot')\n",
    "plt.xlabel('Epsilon')\n",
    "plt.ylabel('Utility')\n",
    "plt.grid(linestyle='--', linewidth=0.5)\n",
    "ax.set(xlim=(0, 1000), ylim=(0.7, 1.00))\n",
    "plt.show()"
   ]
  },
  {
   "cell_type": "markdown",
   "metadata": {},
   "source": [
    "### Plot epsilon vs. Disclosure risk\n",
    "It seems that there is a slight trend of increasing DR when epsilon increases - this is expected as DR measures the probability that an intruder achieves a successful match when they perform an attack (assuming they have partial knowledge of some columns and rows of the original dataset and they try to match each row with the most similar row in the synthetic data)."
   ]
  },
  {
   "cell_type": "code",
   "execution_count": 23,
   "metadata": {},
   "outputs": [
    {
     "name": "stderr",
     "output_type": "stream",
     "text": [
      "<ipython-input-23-aff38f5457b1>:9: UserWarning: Attempted to set non-positive left xlim on a log-scaled axis.\n",
      "Invalid limit will be ignored.\n",
      "  ax.set(xlim=(0, 1000), ylim=(0.0, 1.0))\n",
      "<ipython-input-23-aff38f5457b1>:9: UserWarning: Attempted to set non-positive bottom ylim on a log-scaled axis.\n",
      "Invalid limit will be ignored.\n",
      "  ax.set(xlim=(0, 1000), ylim=(0.0, 1.0))\n"
     ]
    },
    {
     "data": {
      "image/png": "[encoded data removed]",
      "text/plain": [
       "<Figure size 432x288 with 1 Axes>"
      ]
     },
     "metadata": {
      "needs_background": "light"
     },
     "output_type": "display_data"
    }
   ],
   "source": [
    "sns.set_palette(\"hls\", 8)\n",
    "ax = sns.scatterplot(x=np.array(epsilon_scores), y=np.array(privacy_scores), s=70)\n",
    "ax.set_xscale('log')\n",
    "ax.set_yscale('log')\n",
    "plt.title('Epsilon/DR plot')\n",
    "plt.xlabel('Epsilon')\n",
    "plt.ylabel('DR')\n",
    "plt.grid(linestyle='--', linewidth=0.5)\n",
    "ax.set(xlim=(0, 1000), ylim=(0.0, 1.0))\n",
    "plt.show()"
   ]
  },
  {
   "cell_type": "markdown",
   "metadata": {},
   "source": [
    "### Plot Disclosure risk vs. Utility\n",
    "There is no clear pattern here. The expected result would be to see an increase of utility when DR increases (= when privacy decreases)"
   ]
  },
  {
   "cell_type": "code",
   "execution_count": 22,
   "metadata": {},
   "outputs": [
    {
     "name": "stderr",
     "output_type": "stream",
     "text": [
      "<ipython-input-22-15269fd6fa1c>:8: UserWarning: Attempted to set non-positive left xlim on a log-scaled axis.\n",
      "Invalid limit will be ignored.\n",
      "  ax.set(xlim=(0, 1), ylim=(0.5, 1.03))\n"
     ]
    },
    {
     "data": {
      "image/png": "[encoded data removed]",
      "text/plain": [
       "<Figure size 432x288 with 1 Axes>"
      ]
     },
     "metadata": {
      "needs_background": "light"
     },
     "output_type": "display_data"
    }
   ],
   "source": [
    "sns.set_palette(\"hls\", 8)\n",
    "ax = sns.scatterplot(x=np.array(privacy_scores), y=1-np.array(utility_scores), s=70)\n",
    "ax.set_xscale('log')\n",
    "plt.title('Utility/DR plot')\n",
    "plt.xlabel('DR')\n",
    "plt.ylabel('Utility')\n",
    "plt.grid(linestyle='--', linewidth=0.5)\n",
    "ax.set(xlim=(0, 1), ylim=(0.5, 1.03))\n",
    "plt.show()"
   ]
  }
 ],
 "metadata": {
  "kernelspec": {
   "display_name": "Python 3",
   "language": "python",
   "name": "python3"
  },
  "language_info": {
   "codemirror_mode": {
    "name": "ipython",
    "version": 3
   },
   "file_extension": ".py",
   "mimetype": "text/x-python",
   "name": "python",
   "nbconvert_exporter": "python",
   "pygments_lexer": "ipython3",
   "version": "3.8.5"
  }
 },
 "nbformat": 4,
 "nbformat_minor": 4
}
